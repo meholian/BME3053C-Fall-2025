{
  "nbformat": 4,
  "nbformat_minor": 0,
  "metadata": {
    "colab": {
      "provenance": [],
      "authorship_tag": "ABX9TyNEJVpFtCHpx2XR5pPn6ArX",
      "include_colab_link": true
    },
    "kernelspec": {
      "name": "python3",
      "display_name": "Python 3"
    },
    "language_info": {
      "name": "python"
    }
  },
  "cells": [
    {
      "cell_type": "markdown",
      "metadata": {
        "id": "view-in-github",
        "colab_type": "text"
      },
      "source": [
        "<a href=\"https://colab.research.google.com/github/meholian/BME3053C-Fall-2025/blob/main/Homework_2.ipynb\" target=\"_parent\"><img src=\"https://colab.research.google.com/assets/colab-badge.svg\" alt=\"Open In Colab\"/></a>"
      ]
    },
    {
      "cell_type": "code",
      "execution_count": 1,
      "metadata": {
        "colab": {
          "base_uri": "https://localhost:8080/"
        },
        "id": "26lTEnvqEr_g",
        "outputId": "1f88d456-a451-416c-ca6e-74f98938c4d0"
      },
      "outputs": [
        {
          "output_type": "stream",
          "name": "stdout",
          "text": [
            "[0.0, 0.321, 0.604, 0.057, 0.792, 1.0, 0.132, 0.642]\n"
          ]
        }
      ],
      "source": [
        "import math\n",
        "\n",
        "\"\"\"\n",
        "function analyze_array()\n",
        "input parameter: list\n",
        "output parameter: new list\n",
        "-takes the provided list\n",
        "-saves min and max values\n",
        "-creates a new normalized value using the formula (value - min_value)/(max_value - min_value)\n",
        "-adds to new list\n",
        "-returns new list\n",
        "\"\"\"\n",
        "\n",
        "def analyze_array(array):\n",
        "  max_value = max(array)\n",
        "  min_value = min(array)\n",
        "  new_array = []\n",
        "  for item in array:\n",
        "    new_item = (item - min_value)/(max_value - min_value)\n",
        "    new_item = round(new_item, 3)\n",
        "    new_array.append(new_item)\n",
        "  return new_array\n",
        "\n",
        "bp_readings = [120, 137, 152, 123, 162, 173, 127, 154]\n",
        "print(analyze_array(bp_readings))"
      ]
    }
  ]
}