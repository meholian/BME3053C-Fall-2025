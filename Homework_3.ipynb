{
  "nbformat": 4,
  "nbformat_minor": 0,
  "metadata": {
    "colab": {
      "provenance": [],
      "authorship_tag": "ABX9TyMP30Wov7eRmaEGuQ3466ZX",
      "include_colab_link": true
    },
    "kernelspec": {
      "name": "python3",
      "display_name": "Python 3"
    },
    "language_info": {
      "name": "python"
    }
  },
  "cells": [
    {
      "cell_type": "markdown",
      "metadata": {
        "id": "view-in-github",
        "colab_type": "text"
      },
      "source": [
        "<a href=\"https://colab.research.google.com/github/meholian/BME3053C-Fall-2025/blob/main/Homework_3.ipynb\" target=\"_parent\"><img src=\"https://colab.research.google.com/assets/colab-badge.svg\" alt=\"Open In Colab\"/></a>"
      ]
    },
    {
      "cell_type": "code",
      "execution_count": 13,
      "metadata": {
        "colab": {
          "base_uri": "https://localhost:8080/"
        },
        "id": "-ccdLcQ-lec8",
        "outputId": "a244786b-9ab0-4fa7-c08e-f7f051c78a59"
      },
      "outputs": [
        {
          "output_type": "stream",
          "name": "stdout",
          "text": [
            "31\n"
          ]
        }
      ],
      "source": [
        "import math\n",
        "import random\n",
        "\n",
        "\"\"\"\n",
        "This function takes in a list of signal floats\n",
        "The function skips the first value since it can't be a peak because there is no value before it\n",
        "The funcitn skips the last value because it can't be a peak because there is no value after it\n",
        "It then compares the current value to the previous and next values\n",
        "If the current value is greater than both the previous and next values it increases the count by one, otherwise nothing occurs\n",
        "After iterating through the entire list it returns the value of count\n",
        "\"\"\"\n",
        "\n",
        "def detect_ppg_signal_peak(signals):\n",
        "  count = 0\n",
        "  for i in range (len(signals) - 1):\n",
        "    if i==0:\n",
        "      continue\n",
        "    else:\n",
        "      if (ppg_signal[i] > ppg_signal[i - 1]) and (ppg_signal[i] > ppg_signal[i + 1]):\n",
        "        count = count+1\n",
        "  return count\n",
        "\n",
        "#creating test signal list and calling the function\n",
        "ppg_signal = [1000 + 100 * math.sin(0.1 * x) + random.randint(-20, 20) for x in range(100)]\n",
        "print(detect_ppg_signal_peak(ppg_signal))\n"
      ]
    }
  ]
}